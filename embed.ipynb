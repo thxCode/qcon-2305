{
  "cells": [
    {
      "cell_type": "code",
      "execution_count": 2,
      "metadata": {
        "id": "Nifwi9FrKb3g"
      },
      "outputs": [
        {
          "name": "stdout",
          "output_type": "stream",
          "text": [
            "Requirement already satisfied: langchain in ./.venv/lib/python3.11/site-packages (0.0.179)\n",
            "Requirement already satisfied: PyYAML>=5.4.1 in ./.venv/lib/python3.11/site-packages (from langchain) (6.0)\n",
            "Requirement already satisfied: SQLAlchemy<3,>=1.4 in ./.venv/lib/python3.11/site-packages (from langchain) (2.0.15)\n",
            "Requirement already satisfied: aiohttp<4.0.0,>=3.8.3 in ./.venv/lib/python3.11/site-packages (from langchain) (3.8.4)\n",
            "Requirement already satisfied: dataclasses-json<0.6.0,>=0.5.7 in ./.venv/lib/python3.11/site-packages (from langchain) (0.5.7)\n",
            "Requirement already satisfied: numexpr<3.0.0,>=2.8.4 in ./.venv/lib/python3.11/site-packages (from langchain) (2.8.4)\n",
            "Requirement already satisfied: numpy<2,>=1 in ./.venv/lib/python3.11/site-packages (from langchain) (1.23.5)\n",
            "Requirement already satisfied: openapi-schema-pydantic<2.0,>=1.2 in ./.venv/lib/python3.11/site-packages (from langchain) (1.2.4)\n",
            "Requirement already satisfied: pydantic<2,>=1 in ./.venv/lib/python3.11/site-packages (from langchain) (1.10.8)\n",
            "Requirement already satisfied: requests<3,>=2 in ./.venv/lib/python3.11/site-packages (from langchain) (2.31.0)\n",
            "Requirement already satisfied: tenacity<9.0.0,>=8.1.0 in ./.venv/lib/python3.11/site-packages (from langchain) (8.2.2)\n",
            "Requirement already satisfied: attrs>=17.3.0 in ./.venv/lib/python3.11/site-packages (from aiohttp<4.0.0,>=3.8.3->langchain) (23.1.0)\n",
            "Requirement already satisfied: charset-normalizer<4.0,>=2.0 in ./.venv/lib/python3.11/site-packages (from aiohttp<4.0.0,>=3.8.3->langchain) (3.1.0)\n",
            "Requirement already satisfied: multidict<7.0,>=4.5 in ./.venv/lib/python3.11/site-packages (from aiohttp<4.0.0,>=3.8.3->langchain) (6.0.4)\n",
            "Requirement already satisfied: async-timeout<5.0,>=4.0.0a3 in ./.venv/lib/python3.11/site-packages (from aiohttp<4.0.0,>=3.8.3->langchain) (4.0.2)\n",
            "Requirement already satisfied: yarl<2.0,>=1.0 in ./.venv/lib/python3.11/site-packages (from aiohttp<4.0.0,>=3.8.3->langchain) (1.9.2)\n",
            "Requirement already satisfied: frozenlist>=1.1.1 in ./.venv/lib/python3.11/site-packages (from aiohttp<4.0.0,>=3.8.3->langchain) (1.3.3)\n",
            "Requirement already satisfied: aiosignal>=1.1.2 in ./.venv/lib/python3.11/site-packages (from aiohttp<4.0.0,>=3.8.3->langchain) (1.3.1)\n",
            "Requirement already satisfied: marshmallow<4.0.0,>=3.3.0 in ./.venv/lib/python3.11/site-packages (from dataclasses-json<0.6.0,>=0.5.7->langchain) (3.19.0)\n",
            "Requirement already satisfied: marshmallow-enum<2.0.0,>=1.5.1 in ./.venv/lib/python3.11/site-packages (from dataclasses-json<0.6.0,>=0.5.7->langchain) (1.5.1)\n",
            "Requirement already satisfied: typing-inspect>=0.4.0 in ./.venv/lib/python3.11/site-packages (from dataclasses-json<0.6.0,>=0.5.7->langchain) (0.9.0)\n",
            "Requirement already satisfied: typing-extensions>=4.2.0 in ./.venv/lib/python3.11/site-packages (from pydantic<2,>=1->langchain) (4.6.1)\n",
            "Requirement already satisfied: idna<4,>=2.5 in ./.venv/lib/python3.11/site-packages (from requests<3,>=2->langchain) (3.4)\n",
            "Requirement already satisfied: urllib3<3,>=1.21.1 in ./.venv/lib/python3.11/site-packages (from requests<3,>=2->langchain) (2.0.2)\n",
            "Requirement already satisfied: certifi>=2017.4.17 in ./.venv/lib/python3.11/site-packages (from requests<3,>=2->langchain) (2023.5.7)\n",
            "Requirement already satisfied: packaging>=17.0 in ./.venv/lib/python3.11/site-packages (from marshmallow<4.0.0,>=3.3.0->dataclasses-json<0.6.0,>=0.5.7->langchain) (23.1)\n",
            "Requirement already satisfied: mypy-extensions>=0.3.0 in ./.venv/lib/python3.11/site-packages (from typing-inspect>=0.4.0->dataclasses-json<0.6.0,>=0.5.7->langchain) (1.0.0)\n",
            "Note: you may need to restart the kernel to use updated packages.\n",
            "Requirement already satisfied: openai in ./.venv/lib/python3.11/site-packages (0.27.7)\n",
            "Requirement already satisfied: requests>=2.20 in ./.venv/lib/python3.11/site-packages (from openai) (2.31.0)\n",
            "Requirement already satisfied: tqdm in ./.venv/lib/python3.11/site-packages (from openai) (4.65.0)\n",
            "Requirement already satisfied: aiohttp in ./.venv/lib/python3.11/site-packages (from openai) (3.8.4)\n",
            "Requirement already satisfied: charset-normalizer<4,>=2 in ./.venv/lib/python3.11/site-packages (from requests>=2.20->openai) (3.1.0)\n",
            "Requirement already satisfied: idna<4,>=2.5 in ./.venv/lib/python3.11/site-packages (from requests>=2.20->openai) (3.4)\n",
            "Requirement already satisfied: urllib3<3,>=1.21.1 in ./.venv/lib/python3.11/site-packages (from requests>=2.20->openai) (2.0.2)\n",
            "Requirement already satisfied: certifi>=2017.4.17 in ./.venv/lib/python3.11/site-packages (from requests>=2.20->openai) (2023.5.7)\n",
            "Requirement already satisfied: attrs>=17.3.0 in ./.venv/lib/python3.11/site-packages (from aiohttp->openai) (23.1.0)\n",
            "Requirement already satisfied: multidict<7.0,>=4.5 in ./.venv/lib/python3.11/site-packages (from aiohttp->openai) (6.0.4)\n",
            "Requirement already satisfied: async-timeout<5.0,>=4.0.0a3 in ./.venv/lib/python3.11/site-packages (from aiohttp->openai) (4.0.2)\n",
            "Requirement already satisfied: yarl<2.0,>=1.0 in ./.venv/lib/python3.11/site-packages (from aiohttp->openai) (1.9.2)\n",
            "Requirement already satisfied: frozenlist>=1.1.1 in ./.venv/lib/python3.11/site-packages (from aiohttp->openai) (1.3.3)\n",
            "Requirement already satisfied: aiosignal>=1.1.2 in ./.venv/lib/python3.11/site-packages (from aiohttp->openai) (1.3.1)\n",
            "Note: you may need to restart the kernel to use updated packages.\n",
            "Requirement already satisfied: chromadb in ./.venv/lib/python3.11/site-packages (0.3.25)\n",
            "Requirement already satisfied: pandas>=1.3 in ./.venv/lib/python3.11/site-packages (from chromadb) (1.5.3)\n",
            "Requirement already satisfied: requests>=2.28 in ./.venv/lib/python3.11/site-packages (from chromadb) (2.31.0)\n",
            "Requirement already satisfied: pydantic>=1.9 in ./.venv/lib/python3.11/site-packages (from chromadb) (1.10.8)\n",
            "Requirement already satisfied: hnswlib>=0.7 in ./.venv/lib/python3.11/site-packages (from chromadb) (0.7.0)\n",
            "Requirement already satisfied: clickhouse-connect>=0.5.7 in ./.venv/lib/python3.11/site-packages (from chromadb) (0.5.25)\n",
            "Requirement already satisfied: duckdb>=0.7.1 in ./.venv/lib/python3.11/site-packages (from chromadb) (0.8.0)\n",
            "Requirement already satisfied: fastapi>=0.85.1 in ./.venv/lib/python3.11/site-packages (from chromadb) (0.95.2)\n",
            "Requirement already satisfied: uvicorn[standard]>=0.18.3 in ./.venv/lib/python3.11/site-packages (from chromadb) (0.22.0)\n",
            "Requirement already satisfied: numpy>=1.21.6 in ./.venv/lib/python3.11/site-packages (from chromadb) (1.23.5)\n",
            "Requirement already satisfied: posthog>=2.4.0 in ./.venv/lib/python3.11/site-packages (from chromadb) (3.0.1)\n",
            "Requirement already satisfied: onnxruntime>=1.14.1 in ./.venv/lib/python3.11/site-packages (from chromadb) (1.15.0)\n",
            "Requirement already satisfied: tokenizers>=0.13.2 in ./.venv/lib/python3.11/site-packages (from chromadb) (0.13.3)\n",
            "Requirement already satisfied: tqdm>=4.65.0 in ./.venv/lib/python3.11/site-packages (from chromadb) (4.65.0)\n",
            "Requirement already satisfied: typing-extensions>=4.5.0 in ./.venv/lib/python3.11/site-packages (from chromadb) (4.6.1)\n",
            "Requirement already satisfied: overrides>=7.3.1 in ./.venv/lib/python3.11/site-packages (from chromadb) (7.3.1)\n",
            "Requirement already satisfied: certifi in ./.venv/lib/python3.11/site-packages (from clickhouse-connect>=0.5.7->chromadb) (2023.5.7)\n",
            "Requirement already satisfied: urllib3>=1.26 in ./.venv/lib/python3.11/site-packages (from clickhouse-connect>=0.5.7->chromadb) (2.0.2)\n",
            "Requirement already satisfied: pytz in ./.venv/lib/python3.11/site-packages (from clickhouse-connect>=0.5.7->chromadb) (2023.3)\n",
            "Requirement already satisfied: zstandard in ./.venv/lib/python3.11/site-packages (from clickhouse-connect>=0.5.7->chromadb) (0.21.0)\n",
            "Requirement already satisfied: lz4 in ./.venv/lib/python3.11/site-packages (from clickhouse-connect>=0.5.7->chromadb) (4.3.2)\n",
            "Requirement already satisfied: starlette<0.28.0,>=0.27.0 in ./.venv/lib/python3.11/site-packages (from fastapi>=0.85.1->chromadb) (0.27.0)\n",
            "Requirement already satisfied: coloredlogs in ./.venv/lib/python3.11/site-packages (from onnxruntime>=1.14.1->chromadb) (15.0.1)\n",
            "Requirement already satisfied: flatbuffers in ./.venv/lib/python3.11/site-packages (from onnxruntime>=1.14.1->chromadb) (23.5.9)\n",
            "Collecting numpy>=1.21.6 (from chromadb)\n",
            "  Using cached numpy-1.24.3-cp311-cp311-macosx_11_0_arm64.whl (13.8 MB)\n",
            "Requirement already satisfied: packaging in ./.venv/lib/python3.11/site-packages (from onnxruntime>=1.14.1->chromadb) (23.1)\n",
            "Requirement already satisfied: protobuf in ./.venv/lib/python3.11/site-packages (from onnxruntime>=1.14.1->chromadb) (4.23.1)\n",
            "Requirement already satisfied: sympy in ./.venv/lib/python3.11/site-packages (from onnxruntime>=1.14.1->chromadb) (1.12)\n",
            "Requirement already satisfied: python-dateutil>=2.8.1 in ./.venv/lib/python3.11/site-packages (from pandas>=1.3->chromadb) (2.8.2)\n",
            "Requirement already satisfied: six>=1.5 in ./.venv/lib/python3.11/site-packages (from posthog>=2.4.0->chromadb) (1.16.0)\n",
            "Requirement already satisfied: monotonic>=1.5 in ./.venv/lib/python3.11/site-packages (from posthog>=2.4.0->chromadb) (1.6)\n",
            "Requirement already satisfied: backoff>=1.10.0 in ./.venv/lib/python3.11/site-packages (from posthog>=2.4.0->chromadb) (2.2.1)\n",
            "Requirement already satisfied: charset-normalizer<4,>=2 in ./.venv/lib/python3.11/site-packages (from requests>=2.28->chromadb) (3.1.0)\n",
            "Requirement already satisfied: idna<4,>=2.5 in ./.venv/lib/python3.11/site-packages (from requests>=2.28->chromadb) (3.4)\n",
            "Requirement already satisfied: click>=7.0 in ./.venv/lib/python3.11/site-packages (from uvicorn[standard]>=0.18.3->chromadb) (8.1.3)\n",
            "Requirement already satisfied: h11>=0.8 in ./.venv/lib/python3.11/site-packages (from uvicorn[standard]>=0.18.3->chromadb) (0.14.0)\n",
            "Requirement already satisfied: httptools>=0.5.0 in ./.venv/lib/python3.11/site-packages (from uvicorn[standard]>=0.18.3->chromadb) (0.5.0)\n",
            "Requirement already satisfied: python-dotenv>=0.13 in ./.venv/lib/python3.11/site-packages (from uvicorn[standard]>=0.18.3->chromadb) (1.0.0)\n",
            "Requirement already satisfied: pyyaml>=5.1 in ./.venv/lib/python3.11/site-packages (from uvicorn[standard]>=0.18.3->chromadb) (6.0)\n",
            "Requirement already satisfied: uvloop!=0.15.0,!=0.15.1,>=0.14.0 in ./.venv/lib/python3.11/site-packages (from uvicorn[standard]>=0.18.3->chromadb) (0.17.0)\n",
            "Requirement already satisfied: watchfiles>=0.13 in ./.venv/lib/python3.11/site-packages (from uvicorn[standard]>=0.18.3->chromadb) (0.19.0)\n",
            "Requirement already satisfied: websockets>=10.4 in ./.venv/lib/python3.11/site-packages (from uvicorn[standard]>=0.18.3->chromadb) (11.0.3)\n",
            "Requirement already satisfied: anyio<5,>=3.4.0 in ./.venv/lib/python3.11/site-packages (from starlette<0.28.0,>=0.27.0->fastapi>=0.85.1->chromadb) (3.6.2)\n",
            "Requirement already satisfied: humanfriendly>=9.1 in ./.venv/lib/python3.11/site-packages (from coloredlogs->onnxruntime>=1.14.1->chromadb) (10.0)\n",
            "Requirement already satisfied: mpmath>=0.19 in ./.venv/lib/python3.11/site-packages (from sympy->onnxruntime>=1.14.1->chromadb) (1.3.0)\n",
            "Requirement already satisfied: sniffio>=1.1 in ./.venv/lib/python3.11/site-packages (from anyio<5,>=3.4.0->starlette<0.28.0,>=0.27.0->fastapi>=0.85.1->chromadb) (1.3.0)\n",
            "Installing collected packages: numpy\n",
            "  Attempting uninstall: numpy\n",
            "    Found existing installation: numpy 1.23.5\n",
            "    Uninstalling numpy-1.23.5:\n",
            "      Successfully uninstalled numpy-1.23.5\n",
            "\u001b[31mERROR: pip's dependency resolver does not currently take into account all the packages that are installed. This behaviour is the source of the following dependency conflicts.\n",
            "argilla 1.7.0 requires numpy<1.24.0, but you have numpy 1.24.3 which is incompatible.\u001b[0m\u001b[31m\n",
            "\u001b[0mSuccessfully installed numpy-1.24.3\n",
            "Note: you may need to restart the kernel to use updated packages.\n",
            "Requirement already satisfied: unstructured in ./.venv/lib/python3.11/site-packages (0.6.9)\n",
            "Requirement already satisfied: argilla in ./.venv/lib/python3.11/site-packages (from unstructured) (1.7.0)\n",
            "Requirement already satisfied: chardet in ./.venv/lib/python3.11/site-packages (from unstructured) (5.1.0)\n",
            "Requirement already satisfied: lxml in ./.venv/lib/python3.11/site-packages (from unstructured) (4.9.2)\n",
            "Requirement already satisfied: msg-parser in ./.venv/lib/python3.11/site-packages (from unstructured) (1.2.0)\n",
            "Requirement already satisfied: nltk in ./.venv/lib/python3.11/site-packages (from unstructured) (3.8.1)\n",
            "Requirement already satisfied: openpyxl in ./.venv/lib/python3.11/site-packages (from unstructured) (3.1.2)\n",
            "Requirement already satisfied: pandas in ./.venv/lib/python3.11/site-packages (from unstructured) (1.5.3)\n",
            "Requirement already satisfied: pdfminer.six in ./.venv/lib/python3.11/site-packages (from unstructured) (20221105)\n",
            "Requirement already satisfied: pillow in ./.venv/lib/python3.11/site-packages (from unstructured) (9.5.0)\n",
            "Requirement already satisfied: pypandoc in ./.venv/lib/python3.11/site-packages (from unstructured) (1.11)\n",
            "Requirement already satisfied: python-docx in ./.venv/lib/python3.11/site-packages (from unstructured) (0.8.11)\n",
            "Requirement already satisfied: python-pptx in ./.venv/lib/python3.11/site-packages (from unstructured) (0.6.21)\n",
            "Requirement already satisfied: python-magic in ./.venv/lib/python3.11/site-packages (from unstructured) (0.4.27)\n",
            "Requirement already satisfied: markdown in ./.venv/lib/python3.11/site-packages (from unstructured) (3.4.3)\n",
            "Requirement already satisfied: requests in ./.venv/lib/python3.11/site-packages (from unstructured) (2.31.0)\n",
            "Requirement already satisfied: httpx<0.24,>=0.15 in ./.venv/lib/python3.11/site-packages (from argilla->unstructured) (0.23.3)\n",
            "Requirement already satisfied: deprecated~=1.2.0 in ./.venv/lib/python3.11/site-packages (from argilla->unstructured) (1.2.13)\n",
            "Requirement already satisfied: packaging>=20.0 in ./.venv/lib/python3.11/site-packages (from argilla->unstructured) (23.1)\n",
            "Requirement already satisfied: pydantic>=1.7.1 in ./.venv/lib/python3.11/site-packages (from argilla->unstructured) (1.10.8)\n",
            "Requirement already satisfied: wrapt<1.15,>=1.13 in ./.venv/lib/python3.11/site-packages (from argilla->unstructured) (1.14.1)\n",
            "Collecting numpy<1.24.0 (from argilla->unstructured)\n",
            "  Using cached numpy-1.23.5-cp311-cp311-macosx_11_0_arm64.whl (13.3 MB)\n",
            "Requirement already satisfied: tqdm>=4.27.0 in ./.venv/lib/python3.11/site-packages (from argilla->unstructured) (4.65.0)\n",
            "Requirement already satisfied: backoff in ./.venv/lib/python3.11/site-packages (from argilla->unstructured) (2.2.1)\n",
            "Requirement already satisfied: monotonic in ./.venv/lib/python3.11/site-packages (from argilla->unstructured) (1.6)\n",
            "Requirement already satisfied: rich<=13.0.1 in ./.venv/lib/python3.11/site-packages (from argilla->unstructured) (13.0.1)\n",
            "Requirement already satisfied: typer<1.0.0,>=0.6.0 in ./.venv/lib/python3.11/site-packages (from argilla->unstructured) (0.9.0)\n",
            "Requirement already satisfied: python-dateutil>=2.8.1 in ./.venv/lib/python3.11/site-packages (from pandas->unstructured) (2.8.2)\n",
            "Requirement already satisfied: pytz>=2020.1 in ./.venv/lib/python3.11/site-packages (from pandas->unstructured) (2023.3)\n",
            "Requirement already satisfied: olefile>=0.46 in ./.venv/lib/python3.11/site-packages (from msg-parser->unstructured) (0.46)\n",
            "Requirement already satisfied: click in ./.venv/lib/python3.11/site-packages (from nltk->unstructured) (8.1.3)\n",
            "Requirement already satisfied: joblib in ./.venv/lib/python3.11/site-packages (from nltk->unstructured) (1.2.0)\n",
            "Requirement already satisfied: regex>=2021.8.3 in ./.venv/lib/python3.11/site-packages (from nltk->unstructured) (2023.5.5)\n",
            "Requirement already satisfied: et-xmlfile in ./.venv/lib/python3.11/site-packages (from openpyxl->unstructured) (1.1.0)\n",
            "Requirement already satisfied: charset-normalizer>=2.0.0 in ./.venv/lib/python3.11/site-packages (from pdfminer.six->unstructured) (3.1.0)\n",
            "Requirement already satisfied: cryptography>=36.0.0 in ./.venv/lib/python3.11/site-packages (from pdfminer.six->unstructured) (40.0.2)\n",
            "Requirement already satisfied: XlsxWriter>=0.5.7 in ./.venv/lib/python3.11/site-packages (from python-pptx->unstructured) (3.1.1)\n",
            "Requirement already satisfied: idna<4,>=2.5 in ./.venv/lib/python3.11/site-packages (from requests->unstructured) (3.4)\n",
            "Requirement already satisfied: urllib3<3,>=1.21.1 in ./.venv/lib/python3.11/site-packages (from requests->unstructured) (2.0.2)\n",
            "Requirement already satisfied: certifi>=2017.4.17 in ./.venv/lib/python3.11/site-packages (from requests->unstructured) (2023.5.7)\n",
            "Requirement already satisfied: cffi>=1.12 in ./.venv/lib/python3.11/site-packages (from cryptography>=36.0.0->pdfminer.six->unstructured) (1.15.1)\n",
            "Requirement already satisfied: httpcore<0.17.0,>=0.15.0 in ./.venv/lib/python3.11/site-packages (from httpx<0.24,>=0.15->argilla->unstructured) (0.16.3)\n",
            "Requirement already satisfied: rfc3986[idna2008]<2,>=1.3 in ./.venv/lib/python3.11/site-packages (from httpx<0.24,>=0.15->argilla->unstructured) (1.5.0)\n",
            "Requirement already satisfied: sniffio in ./.venv/lib/python3.11/site-packages (from httpx<0.24,>=0.15->argilla->unstructured) (1.3.0)\n",
            "Requirement already satisfied: typing-extensions>=4.2.0 in ./.venv/lib/python3.11/site-packages (from pydantic>=1.7.1->argilla->unstructured) (4.6.1)\n",
            "Requirement already satisfied: six>=1.5 in ./.venv/lib/python3.11/site-packages (from python-dateutil>=2.8.1->pandas->unstructured) (1.16.0)\n",
            "Requirement already satisfied: commonmark<0.10.0,>=0.9.0 in ./.venv/lib/python3.11/site-packages (from rich<=13.0.1->argilla->unstructured) (0.9.1)\n",
            "Requirement already satisfied: pygments<3.0.0,>=2.6.0 in ./.venv/lib/python3.11/site-packages (from rich<=13.0.1->argilla->unstructured) (2.15.1)\n",
            "Requirement already satisfied: pycparser in ./.venv/lib/python3.11/site-packages (from cffi>=1.12->cryptography>=36.0.0->pdfminer.six->unstructured) (2.21)\n",
            "Requirement already satisfied: h11<0.15,>=0.13 in ./.venv/lib/python3.11/site-packages (from httpcore<0.17.0,>=0.15.0->httpx<0.24,>=0.15->argilla->unstructured) (0.14.0)\n",
            "Requirement already satisfied: anyio<5.0,>=3.0 in ./.venv/lib/python3.11/site-packages (from httpcore<0.17.0,>=0.15.0->httpx<0.24,>=0.15->argilla->unstructured) (3.6.2)\n",
            "Installing collected packages: numpy\n",
            "  Attempting uninstall: numpy\n",
            "    Found existing installation: numpy 1.24.3\n",
            "    Uninstalling numpy-1.24.3:\n",
            "      Successfully uninstalled numpy-1.24.3\n",
            "\u001b[31mERROR: pip's dependency resolver does not currently take into account all the packages that are installed. This behaviour is the source of the following dependency conflicts.\n",
            "onnxruntime 1.15.0 requires numpy>=1.24.2, but you have numpy 1.23.5 which is incompatible.\u001b[0m\u001b[31m\n",
            "\u001b[0mSuccessfully installed numpy-1.23.5\n",
            "Note: you may need to restart the kernel to use updated packages.\n",
            "Requirement already satisfied: tiktoken in ./.venv/lib/python3.11/site-packages (0.4.0)\n",
            "Requirement already satisfied: regex>=2022.1.18 in ./.venv/lib/python3.11/site-packages (from tiktoken) (2023.5.5)\n",
            "Requirement already satisfied: requests>=2.26.0 in ./.venv/lib/python3.11/site-packages (from tiktoken) (2.31.0)\n",
            "Requirement already satisfied: charset-normalizer<4,>=2 in ./.venv/lib/python3.11/site-packages (from requests>=2.26.0->tiktoken) (3.1.0)\n",
            "Requirement already satisfied: idna<4,>=2.5 in ./.venv/lib/python3.11/site-packages (from requests>=2.26.0->tiktoken) (3.4)\n",
            "Requirement already satisfied: urllib3<3,>=1.21.1 in ./.venv/lib/python3.11/site-packages (from requests>=2.26.0->tiktoken) (2.0.2)\n",
            "Requirement already satisfied: certifi>=2017.4.17 in ./.venv/lib/python3.11/site-packages (from requests>=2.26.0->tiktoken) (2023.5.7)\n",
            "Note: you may need to restart the kernel to use updated packages.\n",
            "Collecting GitPython\n",
            "  Downloading GitPython-3.1.31-py3-none-any.whl (184 kB)\n",
            "\u001b[2K     \u001b[90m━━━━━━━━━━━━━━━━━━━━━━━━━━━━━━━━━━━━━━━\u001b[0m \u001b[32m184.3/184.3 kB\u001b[0m \u001b[31m1.3 MB/s\u001b[0m eta \u001b[36m0:00:00\u001b[0ma \u001b[36m0:00:01\u001b[0m\n",
            "\u001b[?25hCollecting gitdb<5,>=4.0.1 (from GitPython)\n",
            "  Downloading gitdb-4.0.10-py3-none-any.whl (62 kB)\n",
            "\u001b[2K     \u001b[90m━━━━━━━━━━━━━━━━━━━━━━━━━━━━━━━━━━━━━━━━\u001b[0m \u001b[32m62.7/62.7 kB\u001b[0m \u001b[31m3.5 MB/s\u001b[0m eta \u001b[36m0:00:00\u001b[0m\n",
            "\u001b[?25hCollecting smmap<6,>=3.0.1 (from gitdb<5,>=4.0.1->GitPython)\n",
            "  Downloading smmap-5.0.0-py3-none-any.whl (24 kB)\n",
            "Installing collected packages: smmap, gitdb, GitPython\n",
            "Successfully installed GitPython-3.1.31 gitdb-4.0.10 smmap-5.0.0\n",
            "Note: you may need to restart the kernel to use updated packages.\n"
          ]
        }
      ],
      "source": [
        "%pip install langchain\n",
        "%pip install openai\n",
        "%pip install chromadb\n",
        "%pip install unstructured\n",
        "%pip install tiktoken\n",
        "%pip install GitPython"
      ]
    },
    {
      "cell_type": "code",
      "execution_count": 10,
      "metadata": {
        "id": "5xgbUBve0LuN"
      },
      "outputs": [
        {
          "name": "stdout",
          "output_type": "stream",
          "text": [
            "147\n"
          ]
        }
      ],
      "source": [
        "from langchain.document_loaders import GitLoader\n",
        "\n",
        "loader = GitLoader(\n",
        "    clone_url=\"https://github.com/seal-io/docs\",\n",
        "    repo_path=\"./docs\",\n",
        "    branch=\"main\",\n",
        ")\n",
        "docs = loader.load()\n",
        "print(len(docs))"
      ]
    },
    {
      "cell_type": "code",
      "execution_count": 12,
      "metadata": {
        "id": "ziV20FzmZpm1"
      },
      "outputs": [
        {
          "name": "stdout",
          "output_type": "stream",
          "text": [
            "29\n"
          ]
        }
      ],
      "source": [
        "from langchain.text_splitter import RecursiveCharacterTextSplitter\n",
        "\n",
        "loader = GitLoader(repo_path=\"./docs\", file_filter=lambda file_path: file_path.endswith(\".md\"))\n",
        "\n",
        "text_splitter = RecursiveCharacterTextSplitter(chunk_size=1000, chunk_overlap=0)\n",
        "split_docs = text_splitter.split_documents(loader.load())\n",
        "print(len(split_docs))"
      ]
    },
    {
      "cell_type": "code",
      "execution_count": 13,
      "metadata": {
        "id": "6IOlsXpbaIAw"
      },
      "outputs": [],
      "source": [
        "from langchain.embeddings.openai import OpenAIEmbeddings\n",
        "from langchain.vectorstores import Chroma\n",
        "\n",
        "embeddings = OpenAIEmbeddings()\n",
        "\n",
        "vectordb = Chroma.from_documents(split_docs, embeddings, persist_directory='chorma_data')\n",
        "vectordb.persist()"
      ]
    },
    {
      "cell_type": "code",
      "execution_count": 18,
      "metadata": {
        "id": "_DtgsLeOgkLz",
        "outputId": "12a51bb9-9741-4682-9ebd-c6beea455fff"
      },
      "outputs": [
        {
          "name": "stdout",
          "output_type": "stream",
          "text": [
            "# 常见问题\n",
            "\n",
            "## Q1: 如何加密重要的帐密信息？\n",
            "\n",
            "重要的帐密信息是指用户通过【运维中心/全局密钥】或【应用管理/密钥】面板所创建的值内容，通过【连接器】面板所填入的账户信息等。\n",
            "\n",
            "为保护这类数据信息，用户可以在启动Seal实例时，通过环境变量来加密这类重要的帐密信息。\n",
            "\n",
            "> 注意：该配置只在初次启动Seal实例时生效，二次配置会导致系统启动失败。\n",
            "\n",
            "```shell\n",
            "# step 1: Get 128/256 bits key with OpenSSL.\n",
            "\n",
            "openssl rand -hex 16\n",
            "# openssl rand -hex 32\n",
            "\n",
            "\n",
            "# step 2: Start Seal with the follwoing command.\n",
            "\n",
            "sudo docker run -d --privileged --restart=always \\\n",
            "  -p 80:80 -p 443:443 \\\n",
            "  -e SERVER_DATA_SOURCE_DATA_ENCRYPTION=aesgcm:${the output from step 1} \\\n",
            "  <seal-container-image>\n",
            "\n",
            "```\n",
            "\n",
            "目前仅支持使用 [AES](https://en.wikipedia.org/wiki/Advanced_Encryption_Standard) [GCM](https://en.wikipedia.org/wiki/Galois/Counter_Mode) 模式，更多对称加密的支持，欢迎沟通联系。\n",
            "\n",
            "## Q2: 如何修改 Seal 日志配置？\n",
            "\n",
            "Seal包含以下几个级别的日志：`debug`, `info`, `warning`, `error` 和 `fatal`。\n",
            "\n",
            "配置参数 `log-debug` 和 `log-verbosity` 用于控制Seal日志打印。参数 `log-debug` 配置为`true`将打印出所有级别的日志；配置为`false`，则打印出`info`, `warning`, `error` 和 `fatal`级别的日志。配置参数 `log-verbosity` 用于控制 Seal 日志 verbosity 的最高级别，将打印出所有低于该级别的日志。\n"
          ]
        }
      ],
      "source": [
        "vectordb = Chroma(persist_directory='chorma_data', embedding_function=embeddings)\n",
        "\n",
        "docs = vectordb.similarity_search(\"如何加密关键数据？\", k = 1)\n",
        "print(docs[0].page_content)"
      ]
    },
    {
      "cell_type": "code",
      "execution_count": 17,
      "metadata": {
        "id": "5T6BKUUggkL1",
        "outputId": "cfa4cb66-c721-4e20-901e-726393e0f36d"
      },
      "outputs": [
        {
          "data": {
            "text/plain": [
              "'您可以在启动 Seal 实例时，通过环境变量来加密重要的帐密信息。具体步骤如下：\\n\\n1. 使用 OpenSSL 生成 128/256 位的密钥，命令如下：\\n\\n   ```\\n   openssl rand -hex 16\\n   # openssl rand -hex 32\\n   ```\\n\\n2. 使用以下命令启动 Seal：\\n\\n   ```\\n   sudo docker run -d --privileged --restart=always \\\\\\n     -p 80:80 -p 443:443 \\\\\\n     -e SERVER_DATA_SOURCE_DATA_ENCRYPTION=aesgcm:${the output from step 1} \\\\\\n     <seal-container-image>\\n   ```\\n\\n目前仅支持使用 AES GCM 模式进行加密，更多对称加密的支持，可以联系 Seal 官方进行沟通。请注意，该配置只在初次启动 Seal 实例时生效，二次配置会导致系统启动失败。'"
            ]
          },
          "execution_count": 17,
          "metadata": {},
          "output_type": "execute_result"
        }
      ],
      "source": [
        "from langchain.chains import RetrievalQA\n",
        "from langchain.chat_models import ChatOpenAI\n",
        "\n",
        "llm = ChatOpenAI(model_name=\"gpt-3.5-turbo\", temperature=0.2)\n",
        "\n",
        "qa = RetrievalQA.from_chain_type(llm=llm, chain_type=\"stuff\", retriever=vectordb.as_retriever())\n",
        "qa.run(\"如何加密关键数据？\")"
      ]
    }
  ],
  "metadata": {
    "colab": {
      "include_colab_link": true,
      "provenance": []
    },
    "kernelspec": {
      "display_name": "Python 3",
      "name": "python3"
    },
    "language_info": {
      "codemirror_mode": {
        "name": "ipython",
        "version": 3
      },
      "file_extension": ".py",
      "mimetype": "text/x-python",
      "name": "python",
      "nbconvert_exporter": "python",
      "pygments_lexer": "ipython3",
      "version": "3.11.3"
    }
  },
  "nbformat": 4,
  "nbformat_minor": 0
}
